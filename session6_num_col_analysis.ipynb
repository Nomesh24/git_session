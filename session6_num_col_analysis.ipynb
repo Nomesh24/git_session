{
 "cells": [
  {
   "cell_type": "code",
   "execution_count": 1,
   "id": "7d665867-32a7-4a19-8534-998a223d3c00",
   "metadata": {},
   "outputs": [],
   "source": [
    "import numpy as np\n",
    "import pandas as pd\n",
    "import matplotlib.pyplot as plt\n",
    "import seaborn as sns"
   ]
  },
  {
   "cell_type": "code",
   "execution_count": 2,
   "id": "9432b4ac-c889-47fa-b7ea-70169f57b467",
   "metadata": {},
   "outputs": [],
   "source": [
    "a=pd.read_csv('Visadataset.csv')"
   ]
  },
  {
   "cell_type": "code",
   "execution_count": 3,
   "id": "78bc803c-2040-420d-9630-6fe06a95610f",
   "metadata": {},
   "outputs": [
    {
     "data": {
      "text/plain": [
       "Index(['no_of_employees', 'yr_of_estab', 'prevailing_wage'], dtype='object')"
      ]
     },
     "execution_count": 3,
     "metadata": {},
     "output_type": "execute_result"
    }
   ],
   "source": [
    "num=a.select_dtypes(exclude='object').columns\n",
    "num"
   ]
  },
  {
   "cell_type": "code",
   "execution_count": 4,
   "id": "65ce294a-1170-4eb6-b02b-0a09e009ff01",
   "metadata": {},
   "outputs": [],
   "source": [
    "wage_data=a['prevailing_wage']\n",
    "count=len(wage_data)\n",
    "Min=round(np.min(wage_data))\n",
    "Max=round(np.max(wage_data))\n",
    "Mean=round(np.mean(wage_data))\n",
    "Median=round(np.median(wage_data))"
   ]
  },
  {
   "cell_type": "code",
   "execution_count": 5,
   "id": "d86a14d8-feb6-419e-97e1-9c2934cf0050",
   "metadata": {},
   "outputs": [
    {
     "data": {
      "text/html": [
       "<div>\n",
       "<style scoped>\n",
       "    .dataframe tbody tr th:only-of-type {\n",
       "        vertical-align: middle;\n",
       "    }\n",
       "\n",
       "    .dataframe tbody tr th {\n",
       "        vertical-align: top;\n",
       "    }\n",
       "\n",
       "    .dataframe thead th {\n",
       "        text-align: right;\n",
       "    }\n",
       "</style>\n",
       "<table border=\"1\" class=\"dataframe\">\n",
       "  <thead>\n",
       "    <tr style=\"text-align: right;\">\n",
       "      <th></th>\n",
       "      <th>prevaling_wage</th>\n",
       "    </tr>\n",
       "  </thead>\n",
       "  <tbody>\n",
       "    <tr>\n",
       "      <th>Count</th>\n",
       "      <td>25480</td>\n",
       "    </tr>\n",
       "    <tr>\n",
       "      <th>Min</th>\n",
       "      <td>2</td>\n",
       "    </tr>\n",
       "    <tr>\n",
       "      <th>Max</th>\n",
       "      <td>319210</td>\n",
       "    </tr>\n",
       "    <tr>\n",
       "      <th>Mean</th>\n",
       "      <td>74456</td>\n",
       "    </tr>\n",
       "    <tr>\n",
       "      <th>Median</th>\n",
       "      <td>70308</td>\n",
       "    </tr>\n",
       "  </tbody>\n",
       "</table>\n",
       "</div>"
      ],
      "text/plain": [
       "        prevaling_wage\n",
       "Count            25480\n",
       "Min                  2\n",
       "Max             319210\n",
       "Mean             74456\n",
       "Median           70308"
      ]
     },
     "execution_count": 5,
     "metadata": {},
     "output_type": "execute_result"
    }
   ],
   "source": [
    "inx=['Count','Min','Max','Mean','Median']\n",
    "values=[count,Min,Max,Mean,Median]\n",
    "df=pd.DataFrame(values,\n",
    "                index=inx,\n",
    "                columns=['prevaling_wage']\n",
    "                )\n",
    "df"
   ]
  },
  {
   "cell_type": "markdown",
   "id": "819b2cca-2a5a-4525-b944-7bf5bbb9d7cb",
   "metadata": {},
   "source": [
    "**percentile_quantile**"
   ]
  },
  {
   "cell_type": "code",
   "execution_count": 6,
   "id": "7176ad95-dc9d-441f-9b02-e9f2d01b3a8f",
   "metadata": {},
   "outputs": [],
   "source": [
    "p50=np.percentile(wage_data,50) # ye median k equal hota h\n",
    "q2=np.quantile(wage_data,0.5)"
   ]
  },
  {
   "cell_type": "code",
   "execution_count": 7,
   "id": "04ba82bc-d181-487e-9f9a-da90dcdfaf7f",
   "metadata": {},
   "outputs": [
    {
     "data": {
      "text/plain": [
       "70308.20999999999"
      ]
     },
     "execution_count": 7,
     "metadata": {},
     "output_type": "execute_result"
    }
   ],
   "source": [
    "p50"
   ]
  },
  {
   "cell_type": "code",
   "execution_count": 8,
   "id": "8123f3a9-ea0c-42d7-ab3f-76ed1b1511a8",
   "metadata": {},
   "outputs": [
    {
     "data": {
      "text/plain": [
       "70308.20999999999"
      ]
     },
     "execution_count": 8,
     "metadata": {},
     "output_type": "execute_result"
    }
   ],
   "source": [
    "q2"
   ]
  },
  {
   "cell_type": "markdown",
   "id": "455146e6-4b8b-4340-b574-0bb6990eefe0",
   "metadata": {},
   "source": [
    "- p50=70308\n",
    "- 50 percentage people are less than p50\n",
    "- total data is 25480 so 12740 are less than 50p"
   ]
  },
  {
   "cell_type": "code",
   "execution_count": 9,
   "id": "987aca5d-3d29-46bb-91be-7d416dcd6931",
   "metadata": {},
   "outputs": [],
   "source": [
    "wage_data=a['prevailing_wage']\n",
    "con=wage_data<p50\n",
    "b=a[con]\n",
    "count=len(b)"
   ]
  },
  {
   "cell_type": "code",
   "execution_count": 10,
   "id": "67bace56-c18f-4378-aecc-5b5f2424bc44",
   "metadata": {},
   "outputs": [
    {
     "data": {
      "text/plain": [
       "12740"
      ]
     },
     "execution_count": 10,
     "metadata": {},
     "output_type": "execute_result"
    }
   ],
   "source": [
    "count"
   ]
  },
  {
   "cell_type": "code",
   "execution_count": 11,
   "id": "35e431b2-064a-452d-85e2-92a63ebb7e69",
   "metadata": {},
   "outputs": [
    {
     "data": {
      "text/html": [
       "<div>\n",
       "<style scoped>\n",
       "    .dataframe tbody tr th:only-of-type {\n",
       "        vertical-align: middle;\n",
       "    }\n",
       "\n",
       "    .dataframe tbody tr th {\n",
       "        vertical-align: top;\n",
       "    }\n",
       "\n",
       "    .dataframe thead th {\n",
       "        text-align: right;\n",
       "    }\n",
       "</style>\n",
       "<table border=\"1\" class=\"dataframe\">\n",
       "  <thead>\n",
       "    <tr style=\"text-align: right;\">\n",
       "      <th></th>\n",
       "      <th>prevaling_wage</th>\n",
       "    </tr>\n",
       "  </thead>\n",
       "  <tbody>\n",
       "    <tr>\n",
       "      <th>Count</th>\n",
       "      <td>25480.00</td>\n",
       "    </tr>\n",
       "    <tr>\n",
       "      <th>Min</th>\n",
       "      <td>2.00</td>\n",
       "    </tr>\n",
       "    <tr>\n",
       "      <th>Max</th>\n",
       "      <td>319210.00</td>\n",
       "    </tr>\n",
       "    <tr>\n",
       "      <th>Mean</th>\n",
       "      <td>74456.00</td>\n",
       "    </tr>\n",
       "    <tr>\n",
       "      <th>Median</th>\n",
       "      <td>70308.00</td>\n",
       "    </tr>\n",
       "    <tr>\n",
       "      <th>25p</th>\n",
       "      <td>70308.21</td>\n",
       "    </tr>\n",
       "    <tr>\n",
       "      <th>50p</th>\n",
       "      <td>34015.48</td>\n",
       "    </tr>\n",
       "    <tr>\n",
       "      <th>70p</th>\n",
       "      <td>107735.51</td>\n",
       "    </tr>\n",
       "  </tbody>\n",
       "</table>\n",
       "</div>"
      ],
      "text/plain": [
       "        prevaling_wage\n",
       "Count         25480.00\n",
       "Min               2.00\n",
       "Max          319210.00\n",
       "Mean          74456.00\n",
       "Median        70308.00\n",
       "25p           70308.21\n",
       "50p           34015.48\n",
       "70p          107735.51"
      ]
     },
     "execution_count": 11,
     "metadata": {},
     "output_type": "execute_result"
    }
   ],
   "source": [
    "wage_data=a['prevailing_wage']\n",
    "count=len(wage_data)\n",
    "Min=round(np.min(wage_data))\n",
    "Max=round(np.max(wage_data))\n",
    "Mean=round(np.mean(wage_data))\n",
    "Median=round(np.median(wage_data))\n",
    "p25=round(np.percentile(wage_data,25),2)\n",
    "p75=round(np.percentile(wage_data,75),2)\n",
    "inx=['Count','Min','Max','Mean','Median','25p','50p','70p']\n",
    "values=[count,Min,Max,Mean,Median,p50,p25,p75]\n",
    "df1=pd.DataFrame(values,\n",
    "                index=inx,\n",
    "                columns=['prevaling_wage']\n",
    "                )\n",
    "df1"
   ]
  },
  {
   "cell_type": "code",
   "execution_count": 12,
   "id": "02ccef37-6247-49ed-8283-f6916f18c8e2",
   "metadata": {},
   "outputs": [],
   "source": [
    "l=[]\n",
    "for i in num:\n",
    "    data=a[i]\n",
    "    count=len(data)\n",
    "    Min=round(np.min(data),2)\n",
    "    Max=round(np.max(data),2)\n",
    "    Mean=round(np.mean(data),2)\n",
    "    Median=round(np.median(data),2)\n",
    "    p25=round(np.percentile(data,25),2)\n",
    "    p75=round(np.percentile(data,75),2)\n",
    "    inx=['Count','Min','Max','Mean','Median','25p','50p','70p']\n",
    "    values=[count,Min,Max,Mean,Median,p50,p25,p75]\n",
    "    l.append(values)\n",
    "    "
   ]
  },
  {
   "cell_type": "code",
   "execution_count": 13,
   "id": "6b60665b-ecd2-4f58-8431-5fcff8c746b1",
   "metadata": {},
   "outputs": [
    {
     "data": {
      "text/plain": [
       "[[25480, -26, 602069, 5667.04, 2109.0, 70308.20999999999, 1022.0, 3504.0],\n",
       " [25480, 1800, 2016, 1979.41, 1997.0, 70308.20999999999, 1976.0, 2005.0],\n",
       " [25480,\n",
       "  2.14,\n",
       "  319210.27,\n",
       "  74455.81,\n",
       "  70308.21,\n",
       "  70308.20999999999,\n",
       "  34015.48,\n",
       "  107735.51]]"
      ]
     },
     "execution_count": 13,
     "metadata": {},
     "output_type": "execute_result"
    }
   ],
   "source": [
    "l"
   ]
  },
  {
   "cell_type": "code",
   "execution_count": 14,
   "id": "90179696-dddb-4d9d-af75-da64aea28e88",
   "metadata": {},
   "outputs": [
    {
     "ename": "NameError",
     "evalue": "name 'index' is not defined",
     "output_type": "error",
     "traceback": [
      "\u001b[1;31m---------------------------------------------------------------------------\u001b[0m",
      "\u001b[1;31mNameError\u001b[0m                                 Traceback (most recent call last)",
      "Cell \u001b[1;32mIn[14], line 3\u001b[0m\n\u001b[0;32m      1\u001b[0m pd\u001b[38;5;241m.\u001b[39mDataFrame(l,\n\u001b[0;32m      2\u001b[0m              index\u001b[38;5;241m=\u001b[39mnum,\n\u001b[1;32m----> 3\u001b[0m              columns\u001b[38;5;241m=\u001b[39mindex)\u001b[38;5;241m.\u001b[39mT\n",
      "\u001b[1;31mNameError\u001b[0m: name 'index' is not defined"
     ]
    }
   ],
   "source": [
    "pd.DataFrame(l,\n",
    "             index=num,\n",
    "             columns=index).T"
   ]
  },
  {
   "cell_type": "markdown",
   "id": "7bb217ca-09e5-4f0a-91a9-98803caccc10",
   "metadata": {},
   "source": [
    "**Methods**"
   ]
  },
  {
   "cell_type": "code",
   "execution_count": 15,
   "id": "478981aa-edd7-49ec-97a8-96ae2c3f2154",
   "metadata": {},
   "outputs": [
    {
     "data": {
      "text/html": [
       "<div>\n",
       "<style scoped>\n",
       "    .dataframe tbody tr th:only-of-type {\n",
       "        vertical-align: middle;\n",
       "    }\n",
       "\n",
       "    .dataframe tbody tr th {\n",
       "        vertical-align: top;\n",
       "    }\n",
       "\n",
       "    .dataframe thead th {\n",
       "        text-align: right;\n",
       "    }\n",
       "</style>\n",
       "<table border=\"1\" class=\"dataframe\">\n",
       "  <thead>\n",
       "    <tr style=\"text-align: right;\">\n",
       "      <th></th>\n",
       "      <th>no_of_employees</th>\n",
       "      <th>yr_of_estab</th>\n",
       "      <th>prevailing_wage</th>\n",
       "    </tr>\n",
       "  </thead>\n",
       "  <tbody>\n",
       "    <tr>\n",
       "      <th>count</th>\n",
       "      <td>25480.000000</td>\n",
       "      <td>25480.000000</td>\n",
       "      <td>25480.000000</td>\n",
       "    </tr>\n",
       "    <tr>\n",
       "      <th>mean</th>\n",
       "      <td>5667.043210</td>\n",
       "      <td>1979.409929</td>\n",
       "      <td>74455.814592</td>\n",
       "    </tr>\n",
       "    <tr>\n",
       "      <th>std</th>\n",
       "      <td>22877.928848</td>\n",
       "      <td>42.366929</td>\n",
       "      <td>52815.942327</td>\n",
       "    </tr>\n",
       "    <tr>\n",
       "      <th>min</th>\n",
       "      <td>-26.000000</td>\n",
       "      <td>1800.000000</td>\n",
       "      <td>2.136700</td>\n",
       "    </tr>\n",
       "    <tr>\n",
       "      <th>25%</th>\n",
       "      <td>1022.000000</td>\n",
       "      <td>1976.000000</td>\n",
       "      <td>34015.480000</td>\n",
       "    </tr>\n",
       "    <tr>\n",
       "      <th>50%</th>\n",
       "      <td>2109.000000</td>\n",
       "      <td>1997.000000</td>\n",
       "      <td>70308.210000</td>\n",
       "    </tr>\n",
       "    <tr>\n",
       "      <th>75%</th>\n",
       "      <td>3504.000000</td>\n",
       "      <td>2005.000000</td>\n",
       "      <td>107735.512500</td>\n",
       "    </tr>\n",
       "    <tr>\n",
       "      <th>max</th>\n",
       "      <td>602069.000000</td>\n",
       "      <td>2016.000000</td>\n",
       "      <td>319210.270000</td>\n",
       "    </tr>\n",
       "  </tbody>\n",
       "</table>\n",
       "</div>"
      ],
      "text/plain": [
       "       no_of_employees   yr_of_estab  prevailing_wage\n",
       "count     25480.000000  25480.000000     25480.000000\n",
       "mean       5667.043210   1979.409929     74455.814592\n",
       "std       22877.928848     42.366929     52815.942327\n",
       "min         -26.000000   1800.000000         2.136700\n",
       "25%        1022.000000   1976.000000     34015.480000\n",
       "50%        2109.000000   1997.000000     70308.210000\n",
       "75%        3504.000000   2005.000000    107735.512500\n",
       "max      602069.000000   2016.000000    319210.270000"
      ]
     },
     "execution_count": 15,
     "metadata": {},
     "output_type": "execute_result"
    }
   ],
   "source": [
    "a.describe() # describe sirf num column k liye use hota h"
   ]
  },
  {
   "cell_type": "markdown",
   "id": "e248cd96-948a-4318-8a11-2c2ff23aead4",
   "metadata": {},
   "source": [
    "**Histogram**"
   ]
  },
  {
   "cell_type": "markdown",
   "id": "4546d022-79c7-4161-b116-de986948704d",
   "metadata": {},
   "source": [
    "**Emperical rule**"
   ]
  },
  {
   "cell_type": "code",
   "execution_count": 16,
   "id": "cad8864b-a4d0-4e00-96bc-a98c568eaa7e",
   "metadata": {},
   "outputs": [],
   "source": [
    "wage_data=a['prevailing_wage']"
   ]
  },
  {
   "cell_type": "code",
   "execution_count": 17,
   "id": "654d91fc-b671-4809-ac57-4db33a292c0c",
   "metadata": {},
   "outputs": [
    {
     "data": {
      "text/plain": [
       "False"
      ]
     },
     "execution_count": 17,
     "metadata": {},
     "output_type": "execute_result"
    }
   ],
   "source": [
    "u=np.mean(wage_data)\n",
    "sigma=np.std(wage_data)\n",
    "lb=u-1*sigma\n",
    "ub=u+1*sigma\n",
    "con1=wage_data>lb\n",
    "con2=wage_data<ub\n",
    "con=con1 & con2\n",
    "len(a[con])==25480*68/100"
   ]
  },
  {
   "cell_type": "code",
   "execution_count": 18,
   "id": "99a2254d-42a4-4e51-88dd-90012ab210d5",
   "metadata": {},
   "outputs": [
    {
     "data": {
      "text/plain": [
       "17326.4"
      ]
     },
     "execution_count": 18,
     "metadata": {},
     "output_type": "execute_result"
    }
   ],
   "source": [
    "25480*68/100"
   ]
  },
  {
   "cell_type": "code",
   "execution_count": 19,
   "id": "354a234e-7d8c-47a3-b921-cc1058c9d891",
   "metadata": {},
   "outputs": [
    {
     "data": {
      "text/plain": [
       "17170"
      ]
     },
     "execution_count": 19,
     "metadata": {},
     "output_type": "execute_result"
    }
   ],
   "source": [
    "len(a[con])"
   ]
  },
  {
   "cell_type": "code",
   "execution_count": 20,
   "id": "9ce41364-6a40-468c-8c6c-233744890145",
   "metadata": {},
   "outputs": [],
   "source": [
    "\n",
    "def Emperical_rule(k,n):\n",
    "    u=np.mean(wage_data)\n",
    "    sigma=np.std(wage_data)\n",
    "    lb=u-k*sigma\n",
    "    ub=u+k*sigma\n",
    "    con1=wage_data>lb\n",
    "    con2=wage_data<ub\n",
    "    con=con1 & con2\n",
    "    \n",
    "    len(a[con])==n*len(a)/100\n",
    "    "
   ]
  },
  {
   "cell_type": "code",
   "execution_count": 21,
   "id": "b6d6e9bf-de62-4af3-ae13-fe8607245121",
   "metadata": {},
   "outputs": [],
   "source": [
    "Emperical_rule(3,99.7)"
   ]
  },
  {
   "cell_type": "markdown",
   "id": "08abff60-9df8-4f99-a07d-56ff3d459c8b",
   "metadata": {},
   "source": [
    "**Histogram**"
   ]
  },
  {
   "cell_type": "code",
   "execution_count": 22,
   "id": "637e0aaa-51d0-490c-a07e-67f0ca1c5a7f",
   "metadata": {},
   "outputs": [
    {
     "data": {
      "text/plain": [
       "(array([2992.,  871., 1005., 1170., 1242., 1434., 1385., 1443., 1444.,\n",
       "        1445., 1457., 1335., 1268., 1217., 1088.,  978.,  807.,  645.,\n",
       "         509.,  373.,  264.,  144.,  105.,  111.,  107.,   99.,   88.,\n",
       "          79.,   65.,   64.,   58.,   53.,   33.,   33.,   29.,   19.,\n",
       "           7.,    3.,    6.,    5.]),\n",
       " array([2.13670000e+00, 7.98234003e+03, 1.59625434e+04, 2.39427467e+04,\n",
       "        3.19229500e+04, 3.99031534e+04, 4.78833567e+04, 5.58635600e+04,\n",
       "        6.38437634e+04, 7.18239667e+04, 7.98041700e+04, 8.77843734e+04,\n",
       "        9.57645767e+04, 1.03744780e+05, 1.11724983e+05, 1.19705187e+05,\n",
       "        1.27685390e+05, 1.35665593e+05, 1.43645797e+05, 1.51626000e+05,\n",
       "        1.59606203e+05, 1.67586407e+05, 1.75566610e+05, 1.83546813e+05,\n",
       "        1.91527017e+05, 1.99507220e+05, 2.07487423e+05, 2.15467627e+05,\n",
       "        2.23447830e+05, 2.31428033e+05, 2.39408237e+05, 2.47388440e+05,\n",
       "        2.55368643e+05, 2.63348847e+05, 2.71329050e+05, 2.79309253e+05,\n",
       "        2.87289457e+05, 2.95269660e+05, 3.03249863e+05, 3.11230067e+05,\n",
       "        3.19210270e+05]),\n",
       " <BarContainer object of 40 artists>)"
      ]
     },
     "execution_count": 22,
     "metadata": {},
     "output_type": "execute_result"
    },
    {
     "data": {
      "image/png": "[encoded data removed]",
      "text/plain": [
       "<Figure size 640x480 with 1 Axes>"
      ]
     },
     "metadata": {},
     "output_type": "display_data"
    }
   ],
   "source": [
    "plt.hist(wage_data,bins=40) # 1st list- frequency,2nd list=interval,3rdpoints tells how many bins"
   ]
  },
  {
   "cell_type": "code",
   "execution_count": 23,
   "id": "379884d5-8e47-487d-9cd5-ff12d43c3b49",
   "metadata": {},
   "outputs": [
    {
     "data": {
      "text/plain": [
       "2992"
      ]
     },
     "execution_count": 23,
     "metadata": {},
     "output_type": "execute_result"
    }
   ],
   "source": [
    "lb=2.13670000e+00\n",
    "ub=7.98234003e+03\n",
    "con1=wage_data>=lb\n",
    "con2=wage_data<=ub\n",
    "con=con1&con2\n",
    "len(a[con])"
   ]
  },
  {
   "cell_type": "markdown",
   "id": "9b390baf-67fc-4192-9c46-0bdad46b4253",
   "metadata": {},
   "source": [
    "- data skewed\n",
    "- notfollowing normal distribution\n",
    "- means outliers are present"
   ]
  },
  {
   "cell_type": "markdown",
   "id": "c10c538a-e6fd-4199-8aad-780fffa6c72e",
   "metadata": {},
   "source": [
    "**Outliers analysis**"
   ]
  },
  {
   "cell_type": "markdown",
   "id": "0707f6fd-7862-40fc-8695-e99fcc108519",
   "metadata": {},
   "source": [
    "$box-plot$"
   ]
  },
  {
   "cell_type": "code",
   "execution_count": 24,
   "id": "2c6ecda4-e9d7-4053-9152-73682fb0abf3",
   "metadata": {},
   "outputs": [
    {
     "data": {
      "image/png": "[encoded data removed]",
      "text/plain": [
       "<Figure size 640x480 with 1 Axes>"
      ]
     },
     "metadata": {},
     "output_type": "display_data"
    }
   ],
   "source": [
    "plt.boxplot(wage_data,vert=False)\n",
    "plt.show()"
   ]
  },
  {
   "cell_type": "code",
   "execution_count": 25,
   "id": "447dfb4a-117f-4ce1-886a-20cffeb9349e",
   "metadata": {},
   "outputs": [
    {
     "data": {
      "image/png": "[encoded data removed]",
      "text/plain": [
       "<Figure size 640x480 with 2 Axes>"
      ]
     },
     "metadata": {},
     "output_type": "display_data"
    }
   ],
   "source": [
    "plt.subplot(2,2,1).hist(wage_data)\n",
    "plt.subplot(2,2,2).boxplot(wage_data,vert=False)\n",
    "plt.show()"
   ]
  },
  {
   "cell_type": "code",
   "execution_count": 26,
   "id": "1ed9fd9c-32fa-4694-ac6a-677ae6647de6",
   "metadata": {},
   "outputs": [],
   "source": [
    "q1=np.quantile(wage_data,0.25)\n",
    "q3=np.quantile(wage_data,0.75)\n",
    "iqr=q3-q1\n",
    "lb=q1-1.5*(iqr)\n",
    "ub=q3+1.5*(iqr)\n",
    "con1=wage_data<lb\n",
    "con2=wage_data>ub\n",
    "con=con1 | con2\n",
    "outliers_df=a[con]"
   ]
  },
  {
   "cell_type": "code",
   "execution_count": 27,
   "id": "dee4bab0-5384-462b-bb29-05e4c8f7fb91",
   "metadata": {},
   "outputs": [
    {
     "data": {
      "text/plain": [
       "427"
      ]
     },
     "execution_count": 27,
     "metadata": {},
     "output_type": "execute_result"
    }
   ],
   "source": [
    "len(outliers_df)"
   ]
  },
  {
   "cell_type": "code",
   "execution_count": 28,
   "id": "8c747a60-5cf9-4023-92e5-d1d5d247ad67",
   "metadata": {},
   "outputs": [
    {
     "data": {
      "text/plain": [
       "25053"
      ]
     },
     "execution_count": 28,
     "metadata": {},
     "output_type": "execute_result"
    }
   ],
   "source": [
    "q1=np.quantile(wage_data,0.25)\n",
    "q3=np.quantile(wage_data,0.75)\n",
    "iqr=q3-q1\n",
    "lb=q1-1.5*(iqr)\n",
    "ub=q3+1.5*(iqr)\n",
    "con1=wage_data>lb\n",
    "con2=wage_data<ub\n",
    "con=con1 & con2\n",
    "non_outliers_df=a[con]\n",
    "len(non_outliers_df)"
   ]
  },
  {
   "cell_type": "code",
   "execution_count": 30,
   "id": "54eb37a7-9dc2-4c40-a37c-1d9ad54b4d1e",
   "metadata": {},
   "outputs": [
    {
     "data": {
      "text/plain": [
       "{'whiskers': [<matplotlib.lines.Line2D at 0x184deb40590>,\n",
       "  <matplotlib.lines.Line2D at 0x184deb40380>],\n",
       " 'caps': [<matplotlib.lines.Line2D at 0x184deb40aa0>,\n",
       "  <matplotlib.lines.Line2D at 0x184deb40e30>],\n",
       " 'boxes': [<matplotlib.lines.Line2D at 0x184deb40230>],\n",
       " 'medians': [<matplotlib.lines.Line2D at 0x184deb41070>],\n",
       " 'fliers': [<matplotlib.lines.Line2D at 0x184deb41670>],\n",
       " 'means': []}"
      ]
     },
     "execution_count": 30,
     "metadata": {},
     "output_type": "execute_result"
    },
    {
     "data": {
      "image/png": "[encoded data removed]",
      "text/plain": [
       "<Figure size 640x480 with 2 Axes>"
      ]
     },
     "metadata": {},
     "output_type": "display_data"
    }
   ],
   "source": [
    "d=non_outliers_df['prevailing_wage']\n",
    "plt.subplot(2,2,1).hist(d)\n",
    "plt.subplot(2,2,2).boxplot(d)"
   ]
  },
  {
   "cell_type": "markdown",
   "id": "73d9f717-89b0-42c8-a303-9493c0449c3b",
   "metadata": {},
   "source": [
    "**outlier imputation**\n",
    "\n",
    "  - method1:\n",
    "     - less than lb outlier impute with lb value\n",
    "     - greater than ub outlier impute with ub value\n",
    " - method2:\n",
    " every outlier replace with median"
   ]
  },
  {
   "cell_type": "code",
   "execution_count": 31,
   "id": "5ac83a13-5dc1-41ad-b168-7496eec8d081",
   "metadata": {},
   "outputs": [],
   "source": [
    "l=[]\n",
    "for i in wage_data: # this is capping or called winsorization\n",
    "    if i <lb:\n",
    "        l.append(lb)\n",
    "    elif i>ub:\n",
    "        l.append(ub)\n",
    "    else:\n",
    "        l.append(i)\n",
    "a['wage_data_new']=l"
   ]
  },
  {
   "cell_type": "code",
   "execution_count": 34,
   "id": "5f3e66f6-b0ed-4707-ac38-129fc440d388",
   "metadata": {},
   "outputs": [
    {
     "data": {
      "image/png": "[encoded data removed]",
      "text/plain": [
       "<Figure size 640x480 with 2 Axes>"
      ]
     },
     "metadata": {},
     "output_type": "display_data"
    }
   ],
   "source": [
    "plt.subplot(2,2,1).hist(l)\n",
    "plt.subplot(2,2,2).boxplot(l)\n",
    "plt.show()"
   ]
  },
  {
   "cell_type": "markdown",
   "id": "c9bb02eb-fb0e-480d-abec-538cfb280002",
   "metadata": {},
   "source": [
    "**shortcut**"
   ]
  },
  {
   "cell_type": "code",
   "execution_count": 37,
   "id": "105907a5-660c-4c17-9d66-25265aade9dc",
   "metadata": {},
   "outputs": [
    {
     "data": {
      "image/png": "[encoded data removed]",
      "text/plain": [
       "<Figure size 640x480 with 2 Axes>"
      ]
     },
     "metadata": {},
     "output_type": "display_data"
    }
   ],
   "source": [
    "d1=a['prevailing_wage'].clip(lb,ub)\n",
    "plt.subplot(2,2,1).hist(d1)\n",
    "plt.subplot(2,2,2).boxplot(d1)\n",
    "plt.show()\n"
   ]
  },
  {
   "cell_type": "code",
   "execution_count": null,
   "id": "46b55482-d4e9-4192-9d09-e2517ee92ce5",
   "metadata": {},
   "outputs": [],
   "source": []
  }
 ],
 "metadata": {
  "kernelspec": {
   "display_name": "Python 3 (ipykernel)",
   "language": "python",
   "name": "python3"
  },
  "language_info": {
   "codemirror_mode": {
    "name": "ipython",
    "version": 3
   },
   "file_extension": ".py",
   "mimetype": "text/x-python",
   "name": "python",
   "nbconvert_exporter": "python",
   "pygments_lexer": "ipython3",
   "version": "3.12.7"
  }
 },
 "nbformat": 4,
 "nbformat_minor": 5
}
